{
 "nbformat": 4,
 "nbformat_minor": 2,
 "metadata": {
  "language_info": {
   "name": "python",
   "codemirror_mode": {
    "name": "ipython",
    "version": 3
   },
   "version": "3.8.1-final"
  },
  "orig_nbformat": 2,
  "file_extension": ".py",
  "mimetype": "text/x-python",
  "name": "python",
  "npconvert_exporter": "python",
  "pygments_lexer": "ipython3",
  "version": 3,
  "kernelspec": {
   "name": "python38132bit662f565e6d2f4ef58d94b479cd203244",
   "display_name": "Python 3.8.1 32-bit"
  }
 },
 "cells": [
  {
   "cell_type": "code",
   "execution_count": 1,
   "metadata": {},
   "outputs": [],
   "source": [
    "from NBABase import AllStats, TodaysGames, VegasLines, TodaysPlayers"
   ]
  },
  {
   "cell_type": "code",
   "execution_count": 2,
   "metadata": {},
   "outputs": [],
   "source": [
    "import pandas as pd\n",
    "import numpy as np\n"
   ]
  },
  {
   "cell_type": "code",
   "execution_count": 3,
   "metadata": {},
   "outputs": [],
   "source": [
    "columnNames = ['PlayerName', 'Position', 'Date', 'Team', 'HomeAway', 'Opp', 'Margin', 'MP', 'FG', 'FGA', 'FGper', 'ThreeP',\n",
    "                    'ThreePA', 'ThreePper', 'FT', 'FTA', 'FTper', 'ORB', 'DRB', 'TRB', 'AST', 'STL', 'BLK', 'TOV', 'PF', 'PTS', \n",
    "                    'GmSc', 'TSPer', 'eFGPer', 'ORBPer', 'DRBPer', 'TRBPer', 'ASTPer', 'STLPer', 'BLKPer', 'TOVPer', 'USGPer', \n",
    "                    'ORTGPer', 'DRTGPer']                    \n",
    "AllStats.columns = columnNames                    "
   ]
  },
  {
   "cell_type": "code",
   "execution_count": 4,
   "metadata": {},
   "outputs": [],
   "source": [
    "data = {\"Team\":[],\"Position\":[],\"Date\":[],\"FG\":[],\"FGA\":[],\"ThreeP\":[],\"ThreePA\":[],\"FT\":[],\"FTA\":[],\"ORB\":[],\"DRB\":[],\"TRB\":[],\"AST\":[],\"STL\":[],\"BLK\":[],\"TOV\":[],\"PF\":[], \"PTS\":[],\"TSPer\":[],\"eFGPer\":[],\"ORBPer\":[],\"DRBPer\":[],\"TRBPer\":[],\"ASTPer\":[],\"STLPer\":[],\"BLKPer\":[],\"TOVPer\":[],\"USGPer\":[],\"ORTGPer\":[],\"DRTGPer\":[],\"FGAOpp\":[], \"ThreePAOpp\":[], \"FTAOpp\":[], \"TRBOpp\":[],\"ASTOpp\":[],\"STLOpp\":[],\"BLKOpp\":[],\"TOVOpp\":[]}\n",
    "\n",
    "DefensiveStats = pd.DataFrame(data)"
   ]
  },
  {
   "cell_type": "code",
   "execution_count": 12,
   "metadata": {},
   "outputs": [
    {
     "name": "stdout",
     "output_type": "stream",
     "text": "Team Position Date   FG  FGA ThreeP ThreePA   FT  FTA  ORB  ... ORTGPer  \\\n0  MIL      NaN  NaN  NaN  NaN    NaN     NaN  NaN  NaN  NaN  ...     NaN   \n\n  DRTGPer FGAOpp ThreePAOpp FTAOpp TRBOpp ASTOpp STLOpp BLKOpp TOVOpp  \n0     NaN    NaN        NaN    NaN    NaN    NaN    NaN    NaN    NaN  \n\n[1 rows x 38 columns]\n  Team Position Date   FG  FGA ThreeP ThreePA   FT  FTA  ORB  ... ORTGPer  \\\n0  CHI      NaN  NaN  NaN  NaN    NaN     NaN  NaN  NaN  NaN  ...     NaN   \n\n  DRTGPer FGAOpp ThreePAOpp FTAOpp TRBOpp ASTOpp STLOpp BLKOpp TOVOpp  \n0     NaN    NaN        NaN    NaN    NaN    NaN    NaN    NaN    NaN  \n\n[1 rows x 38 columns]\n  Team Position Date   FG  FGA ThreeP ThreePA   FT  FTA  ORB  ... ORTGPer  \\\n0  CHO      NaN  NaN  NaN  NaN    NaN     NaN  NaN  NaN  NaN  ...     NaN   \n\n  DRTGPer FGAOpp ThreePAOpp FTAOpp TRBOpp ASTOpp STLOpp BLKOpp TOVOpp  \n0     NaN    NaN        NaN    NaN    NaN    NaN    NaN    NaN    NaN  \n\n[1 rows x 38 columns]\n  Team Position Date   FG  FGA ThreeP ThreePA   FT  FTA  ORB  ... ORTGPer  \\\n0  DEN      NaN  NaN  NaN  NaN    NaN     NaN  NaN  NaN  NaN  ...     NaN   \n\n  DRTGPer FGAOpp ThreePAOpp FTAOpp TRBOpp ASTOpp STLOpp BLKOpp TOVOpp  \n0     NaN    NaN        NaN    NaN    NaN    NaN    NaN    NaN    NaN  \n\n[1 rows x 38 columns]\n  Team Position Date   FG  FGA ThreeP ThreePA   FT  FTA  ORB  ... ORTGPer  \\\n0  NYK      NaN  NaN  NaN  NaN    NaN     NaN  NaN  NaN  NaN  ...     NaN   \n\n  DRTGPer FGAOpp ThreePAOpp FTAOpp TRBOpp ASTOpp STLOpp BLKOpp TOVOpp  \n0     NaN    NaN        NaN    NaN    NaN    NaN    NaN    NaN    NaN  \n\n[1 rows x 38 columns]\n  Team Position Date   FG  FGA ThreeP ThreePA   FT  FTA  ORB  ... ORTGPer  \\\n0  BOS      NaN  NaN  NaN  NaN    NaN     NaN  NaN  NaN  NaN  ...     NaN   \n\n  DRTGPer FGAOpp ThreePAOpp FTAOpp TRBOpp ASTOpp STLOpp BLKOpp TOVOpp  \n0     NaN    NaN        NaN    NaN    NaN    NaN    NaN    NaN    NaN  \n\n[1 rows x 38 columns]\n  Team Position Date   FG  FGA ThreeP ThreePA   FT  FTA  ORB  ... ORTGPer  \\\n0  SAS      NaN  NaN  NaN  NaN    NaN     NaN  NaN  NaN  NaN  ...     NaN   \n\n  DRTGPer FGAOpp ThreePAOpp FTAOpp TRBOpp ASTOpp STLOpp BLKOpp TOVOpp  \n0     NaN    NaN        NaN    NaN    NaN    NaN    NaN    NaN    NaN  \n\n[1 rows x 38 columns]\n  Team Position Date   FG  FGA ThreeP ThreePA   FT  FTA  ORB  ... ORTGPer  \\\n0  IND      NaN  NaN  NaN  NaN    NaN     NaN  NaN  NaN  NaN  ...     NaN   \n\n  DRTGPer FGAOpp ThreePAOpp FTAOpp TRBOpp ASTOpp STLOpp BLKOpp TOVOpp  \n0     NaN    NaN        NaN    NaN    NaN    NaN    NaN    NaN    NaN  \n\n[1 rows x 38 columns]\n  Team Position Date   FG  FGA ThreeP ThreePA   FT  FTA  ORB  ... ORTGPer  \\\n0  PHO      NaN  NaN  NaN  NaN    NaN     NaN  NaN  NaN  NaN  ...     NaN   \n\n  DRTGPer FGAOpp ThreePAOpp FTAOpp TRBOpp ASTOpp STLOpp BLKOpp TOVOpp  \n0     NaN    NaN        NaN    NaN    NaN    NaN    NaN    NaN    NaN  \n\n[1 rows x 38 columns]\n  Team Position Date   FG  FGA ThreeP ThreePA   FT  FTA  ORB  ... ORTGPer  \\\n0  DAL      NaN  NaN  NaN  NaN    NaN     NaN  NaN  NaN  NaN  ...     NaN   \n\n  DRTGPer FGAOpp ThreePAOpp FTAOpp TRBOpp ASTOpp STLOpp BLKOpp TOVOpp  \n0     NaN    NaN        NaN    NaN    NaN    NaN    NaN    NaN    NaN  \n\n[1 rows x 38 columns]\n  Team Position Date   FG  FGA ThreeP ThreePA   FT  FTA  ORB  ... ORTGPer  \\\n0  GSW      NaN  NaN  NaN  NaN    NaN     NaN  NaN  NaN  NaN  ...     NaN   \n\n  DRTGPer FGAOpp ThreePAOpp FTAOpp TRBOpp ASTOpp STLOpp BLKOpp TOVOpp  \n0     NaN    NaN        NaN    NaN    NaN    NaN    NaN    NaN    NaN  \n\n[1 rows x 38 columns]\n  Team Position Date   FG  FGA ThreeP ThreePA   FT  FTA  ORB  ... ORTGPer  \\\n0  MEM      NaN  NaN  NaN  NaN    NaN     NaN  NaN  NaN  NaN  ...     NaN   \n\n  DRTGPer FGAOpp ThreePAOpp FTAOpp TRBOpp ASTOpp STLOpp BLKOpp TOVOpp  \n0     NaN    NaN        NaN    NaN    NaN    NaN    NaN    NaN    NaN  \n\n[1 rows x 38 columns]\n  Team Position Date   FG  FGA ThreeP ThreePA   FT  FTA  ORB  ... ORTGPer  \\\n0  TOR      NaN  NaN  NaN  NaN    NaN     NaN  NaN  NaN  NaN  ...     NaN   \n\n  DRTGPer FGAOpp ThreePAOpp FTAOpp TRBOpp ASTOpp STLOpp BLKOpp TOVOpp  \n0     NaN    NaN        NaN    NaN    NaN    NaN    NaN    NaN    NaN  \n\n[1 rows x 38 columns]\n  Team Position Date   FG  FGA ThreeP ThreePA   FT  FTA  ORB  ... ORTGPer  \\\n0  ORL      NaN  NaN  NaN  NaN    NaN     NaN  NaN  NaN  NaN  ...     NaN   \n\n  DRTGPer FGAOpp ThreePAOpp FTAOpp TRBOpp ASTOpp STLOpp BLKOpp TOVOpp  \n0     NaN    NaN        NaN    NaN    NaN    NaN    NaN    NaN    NaN  \n\n[1 rows x 38 columns]\n  Team Position Date   FG  FGA ThreeP ThreePA   FT  FTA  ORB  ... ORTGPer  \\\n0  UTA      NaN  NaN  NaN  NaN    NaN     NaN  NaN  NaN  NaN  ...     NaN   \n\n  DRTGPer FGAOpp ThreePAOpp FTAOpp TRBOpp ASTOpp STLOpp BLKOpp TOVOpp  \n0     NaN    NaN        NaN    NaN    NaN    NaN    NaN    NaN    NaN  \n\n[1 rows x 38 columns]\n  Team Position Date   FG  FGA ThreeP ThreePA   FT  FTA  ORB  ... ORTGPer  \\\n0  WAS      NaN  NaN  NaN  NaN    NaN     NaN  NaN  NaN  NaN  ...     NaN   \n\n  DRTGPer FGAOpp ThreePAOpp FTAOpp TRBOpp ASTOpp STLOpp BLKOpp TOVOpp  \n0     NaN    NaN        NaN    NaN    NaN    NaN    NaN    NaN    NaN  \n\n[1 rows x 38 columns]\n  Team Position Date   FG  FGA ThreeP ThreePA   FT  FTA  ORB  ... ORTGPer  \\\n0  CLE      NaN  NaN  NaN  NaN    NaN     NaN  NaN  NaN  NaN  ...     NaN   \n\n  DRTGPer FGAOpp ThreePAOpp FTAOpp TRBOpp ASTOpp STLOpp BLKOpp TOVOpp  \n0     NaN    NaN        NaN    NaN    NaN    NaN    NaN    NaN    NaN  \n\n[1 rows x 38 columns]\n  Team Position Date   FG  FGA ThreeP ThreePA   FT  FTA  ORB  ... ORTGPer  \\\n0  MIN      NaN  NaN  NaN  NaN    NaN     NaN  NaN  NaN  NaN  ...     NaN   \n\n  DRTGPer FGAOpp ThreePAOpp FTAOpp TRBOpp ASTOpp STLOpp BLKOpp TOVOpp  \n0     NaN    NaN        NaN    NaN    NaN    NaN    NaN    NaN    NaN  \n\n[1 rows x 38 columns]\n  Team Position Date   FG  FGA ThreeP ThreePA   FT  FTA  ORB  ... ORTGPer  \\\n0  LAL      NaN  NaN  NaN  NaN    NaN     NaN  NaN  NaN  NaN  ...     NaN   \n\n  DRTGPer FGAOpp ThreePAOpp FTAOpp TRBOpp ASTOpp STLOpp BLKOpp TOVOpp  \n0     NaN    NaN        NaN    NaN    NaN    NaN    NaN    NaN    NaN  \n\n[1 rows x 38 columns]\n  Team Position Date   FG  FGA ThreeP ThreePA   FT  FTA  ORB  ... ORTGPer  \\\n0  OKC      NaN  NaN  NaN  NaN    NaN     NaN  NaN  NaN  NaN  ...     NaN   \n\n  DRTGPer FGAOpp ThreePAOpp FTAOpp TRBOpp ASTOpp STLOpp BLKOpp TOVOpp  \n0     NaN    NaN        NaN    NaN    NaN    NaN    NaN    NaN    NaN  \n\n[1 rows x 38 columns]\n  Team Position Date   FG  FGA ThreeP ThreePA   FT  FTA  ORB  ... ORTGPer  \\\n0  POR      NaN  NaN  NaN  NaN    NaN     NaN  NaN  NaN  NaN  ...     NaN   \n\n  DRTGPer FGAOpp ThreePAOpp FTAOpp TRBOpp ASTOpp STLOpp BLKOpp TOVOpp  \n0     NaN    NaN        NaN    NaN    NaN    NaN    NaN    NaN    NaN  \n\n[1 rows x 38 columns]\n  Team Position Date   FG  FGA ThreeP ThreePA   FT  FTA  ORB  ... ORTGPer  \\\n0  PHI      NaN  NaN  NaN  NaN    NaN     NaN  NaN  NaN  NaN  ...     NaN   \n\n  DRTGPer FGAOpp ThreePAOpp FTAOpp TRBOpp ASTOpp STLOpp BLKOpp TOVOpp  \n0     NaN    NaN        NaN    NaN    NaN    NaN    NaN    NaN    NaN  \n\n[1 rows x 38 columns]\n  Team Position Date   FG  FGA ThreeP ThreePA   FT  FTA  ORB  ... ORTGPer  \\\n0  BRK      NaN  NaN  NaN  NaN    NaN     NaN  NaN  NaN  NaN  ...     NaN   \n\n  DRTGPer FGAOpp ThreePAOpp FTAOpp TRBOpp ASTOpp STLOpp BLKOpp TOVOpp  \n0     NaN    NaN        NaN    NaN    NaN    NaN    NaN    NaN    NaN  \n\n[1 rows x 38 columns]\n  Team Position Date   FG  FGA ThreeP ThreePA   FT  FTA  ORB  ... ORTGPer  \\\n0  SAC      NaN  NaN  NaN  NaN    NaN     NaN  NaN  NaN  NaN  ...     NaN   \n\n  DRTGPer FGAOpp ThreePAOpp FTAOpp TRBOpp ASTOpp STLOpp BLKOpp TOVOpp  \n0     NaN    NaN        NaN    NaN    NaN    NaN    NaN    NaN    NaN  \n\n[1 rows x 38 columns]\n  Team Position Date   FG  FGA ThreeP ThreePA   FT  FTA  ORB  ... ORTGPer  \\\n0  HOU      NaN  NaN  NaN  NaN    NaN     NaN  NaN  NaN  NaN  ...     NaN   \n\n  DRTGPer FGAOpp ThreePAOpp FTAOpp TRBOpp ASTOpp STLOpp BLKOpp TOVOpp  \n0     NaN    NaN        NaN    NaN    NaN    NaN    NaN    NaN    NaN  \n\n[1 rows x 38 columns]\n  Team Position Date   FG  FGA ThreeP ThreePA   FT  FTA  ORB  ... ORTGPer  \\\n0  MIA      NaN  NaN  NaN  NaN    NaN     NaN  NaN  NaN  NaN  ...     NaN   \n\n  DRTGPer FGAOpp ThreePAOpp FTAOpp TRBOpp ASTOpp STLOpp BLKOpp TOVOpp  \n0     NaN    NaN        NaN    NaN    NaN    NaN    NaN    NaN    NaN  \n\n[1 rows x 38 columns]\n  Team Position Date   FG  FGA ThreeP ThreePA   FT  FTA  ORB  ... ORTGPer  \\\n0  LAC      NaN  NaN  NaN  NaN    NaN     NaN  NaN  NaN  NaN  ...     NaN   \n\n  DRTGPer FGAOpp ThreePAOpp FTAOpp TRBOpp ASTOpp STLOpp BLKOpp TOVOpp  \n0     NaN    NaN        NaN    NaN    NaN    NaN    NaN    NaN    NaN  \n\n[1 rows x 38 columns]\n  Team Position Date   FG  FGA ThreeP ThreePA   FT  FTA  ORB  ... ORTGPer  \\\n0  ATL      NaN  NaN  NaN  NaN    NaN     NaN  NaN  NaN  NaN  ...     NaN   \n\n  DRTGPer FGAOpp ThreePAOpp FTAOpp TRBOpp ASTOpp STLOpp BLKOpp TOVOpp  \n0     NaN    NaN        NaN    NaN    NaN    NaN    NaN    NaN    NaN  \n\n[1 rows x 38 columns]\n  Team Position Date   FG  FGA ThreeP ThreePA   FT  FTA  ORB  ... ORTGPer  \\\n0  NOP      NaN  NaN  NaN  NaN    NaN     NaN  NaN  NaN  NaN  ...     NaN   \n\n  DRTGPer FGAOpp ThreePAOpp FTAOpp TRBOpp ASTOpp STLOpp BLKOpp TOVOpp  \n0     NaN    NaN        NaN    NaN    NaN    NaN    NaN    NaN    NaN  \n\n[1 rows x 38 columns]\n  Team Position Date   FG  FGA ThreeP ThreePA   FT  FTA  ORB  ... ORTGPer  \\\n0  DET      NaN  NaN  NaN  NaN    NaN     NaN  NaN  NaN  NaN  ...     NaN   \n\n  DRTGPer FGAOpp ThreePAOpp FTAOpp TRBOpp ASTOpp STLOpp BLKOpp TOVOpp  \n0     NaN    NaN        NaN    NaN    NaN    NaN    NaN    NaN    NaN  \n\n[1 rows x 38 columns]\n   Team Position Date   FG  FGA ThreeP ThreePA   FT  FTA  ORB  ... ORTGPer  \\\n0   MIL      NaN  NaN  NaN  NaN    NaN     NaN  NaN  NaN  NaN  ...     NaN   \n1   CHI      NaN  NaN  NaN  NaN    NaN     NaN  NaN  NaN  NaN  ...     NaN   \n2   CHO      NaN  NaN  NaN  NaN    NaN     NaN  NaN  NaN  NaN  ...     NaN   \n3   DEN      NaN  NaN  NaN  NaN    NaN     NaN  NaN  NaN  NaN  ...     NaN   \n4   NYK      NaN  NaN  NaN  NaN    NaN     NaN  NaN  NaN  NaN  ...     NaN   \n5   BOS      NaN  NaN  NaN  NaN    NaN     NaN  NaN  NaN  NaN  ...     NaN   \n6   SAS      NaN  NaN  NaN  NaN    NaN     NaN  NaN  NaN  NaN  ...     NaN   \n7   IND      NaN  NaN  NaN  NaN    NaN     NaN  NaN  NaN  NaN  ...     NaN   \n8   PHO      NaN  NaN  NaN  NaN    NaN     NaN  NaN  NaN  NaN  ...     NaN   \n9   DAL      NaN  NaN  NaN  NaN    NaN     NaN  NaN  NaN  NaN  ...     NaN   \n10  GSW      NaN  NaN  NaN  NaN    NaN     NaN  NaN  NaN  NaN  ...     NaN   \n11  MEM      NaN  NaN  NaN  NaN    NaN     NaN  NaN  NaN  NaN  ...     NaN   \n12  TOR      NaN  NaN  NaN  NaN    NaN     NaN  NaN  NaN  NaN  ...     NaN   \n13  ORL      NaN  NaN  NaN  NaN    NaN     NaN  NaN  NaN  NaN  ...     NaN   \n14  UTA      NaN  NaN  NaN  NaN    NaN     NaN  NaN  NaN  NaN  ...     NaN   \n15  WAS      NaN  NaN  NaN  NaN    NaN     NaN  NaN  NaN  NaN  ...     NaN   \n16  CLE      NaN  NaN  NaN  NaN    NaN     NaN  NaN  NaN  NaN  ...     NaN   \n17  MIN      NaN  NaN  NaN  NaN    NaN     NaN  NaN  NaN  NaN  ...     NaN   \n18  LAL      NaN  NaN  NaN  NaN    NaN     NaN  NaN  NaN  NaN  ...     NaN   \n19  OKC      NaN  NaN  NaN  NaN    NaN     NaN  NaN  NaN  NaN  ...     NaN   \n20  POR      NaN  NaN  NaN  NaN    NaN     NaN  NaN  NaN  NaN  ...     NaN   \n21  PHI      NaN  NaN  NaN  NaN    NaN     NaN  NaN  NaN  NaN  ...     NaN   \n22  BRK      NaN  NaN  NaN  NaN    NaN     NaN  NaN  NaN  NaN  ...     NaN   \n23  SAC      NaN  NaN  NaN  NaN    NaN     NaN  NaN  NaN  NaN  ...     NaN   \n24  HOU      NaN  NaN  NaN  NaN    NaN     NaN  NaN  NaN  NaN  ...     NaN   \n25  MIA      NaN  NaN  NaN  NaN    NaN     NaN  NaN  NaN  NaN  ...     NaN   \n26  LAC      NaN  NaN  NaN  NaN    NaN     NaN  NaN  NaN  NaN  ...     NaN   \n27  ATL      NaN  NaN  NaN  NaN    NaN     NaN  NaN  NaN  NaN  ...     NaN   \n28  NOP      NaN  NaN  NaN  NaN    NaN     NaN  NaN  NaN  NaN  ...     NaN   \n29  DET      NaN  NaN  NaN  NaN    NaN     NaN  NaN  NaN  NaN  ...     NaN   \n\n   DRTGPer FGAOpp ThreePAOpp FTAOpp TRBOpp ASTOpp STLOpp BLKOpp TOVOpp  \n0      NaN    NaN        NaN    NaN    NaN    NaN    NaN    NaN    NaN  \n1      NaN    NaN        NaN    NaN    NaN    NaN    NaN    NaN    NaN  \n2      NaN    NaN        NaN    NaN    NaN    NaN    NaN    NaN    NaN  \n3      NaN    NaN        NaN    NaN    NaN    NaN    NaN    NaN    NaN  \n4      NaN    NaN        NaN    NaN    NaN    NaN    NaN    NaN    NaN  \n5      NaN    NaN        NaN    NaN    NaN    NaN    NaN    NaN    NaN  \n6      NaN    NaN        NaN    NaN    NaN    NaN    NaN    NaN    NaN  \n7      NaN    NaN        NaN    NaN    NaN    NaN    NaN    NaN    NaN  \n8      NaN    NaN        NaN    NaN    NaN    NaN    NaN    NaN    NaN  \n9      NaN    NaN        NaN    NaN    NaN    NaN    NaN    NaN    NaN  \n10     NaN    NaN        NaN    NaN    NaN    NaN    NaN    NaN    NaN  \n11     NaN    NaN        NaN    NaN    NaN    NaN    NaN    NaN    NaN  \n12     NaN    NaN        NaN    NaN    NaN    NaN    NaN    NaN    NaN  \n13     NaN    NaN        NaN    NaN    NaN    NaN    NaN    NaN    NaN  \n14     NaN    NaN        NaN    NaN    NaN    NaN    NaN    NaN    NaN  \n15     NaN    NaN        NaN    NaN    NaN    NaN    NaN    NaN    NaN  \n16     NaN    NaN        NaN    NaN    NaN    NaN    NaN    NaN    NaN  \n17     NaN    NaN        NaN    NaN    NaN    NaN    NaN    NaN    NaN  \n18     NaN    NaN        NaN    NaN    NaN    NaN    NaN    NaN    NaN  \n19     NaN    NaN        NaN    NaN    NaN    NaN    NaN    NaN    NaN  \n20     NaN    NaN        NaN    NaN    NaN    NaN    NaN    NaN    NaN  \n21     NaN    NaN        NaN    NaN    NaN    NaN    NaN    NaN    NaN  \n22     NaN    NaN        NaN    NaN    NaN    NaN    NaN    NaN    NaN  \n23     NaN    NaN        NaN    NaN    NaN    NaN    NaN    NaN    NaN  \n24     NaN    NaN        NaN    NaN    NaN    NaN    NaN    NaN    NaN  \n25     NaN    NaN        NaN    NaN    NaN    NaN    NaN    NaN    NaN  \n26     NaN    NaN        NaN    NaN    NaN    NaN    NaN    NaN    NaN  \n27     NaN    NaN        NaN    NaN    NaN    NaN    NaN    NaN    NaN  \n28     NaN    NaN        NaN    NaN    NaN    NaN    NaN    NaN    NaN  \n29     NaN    NaN        NaN    NaN    NaN    NaN    NaN    NaN    NaN  \n\n[30 rows x 38 columns]\n"
    }
   ],
   "source": [
    "PositionsAll = [\"C\", \"PG\", \"SG\", \"SF\", \"PF\"]\n",
    "AllTeams = set(AllStats.loc[:,\"Team\"])\n",
    "defStats_columnNames = ['Team', 'Position', 'Date', 'FG', 'FGA', 'ThreeP', 'ThreePA', 'FT', 'FTA', 'ORB', 'DRB', 'TRB', 'AST', 'STL', 'BLK', 'TOV', 'PF', 'PTS', 'TSPer', 'eFGPer', 'ORBPer', 'DRBPer', 'TRBPer', 'ASTPer', 'STLPer', 'BLKPer', 'TOVPer', 'USGPer', 'ORTGPer', 'DRTGPer', 'FGAOpp', 'ThreePAOpp', 'FTAOpp', 'TRBOpp', 'ASTOpp', 'STLOpp', 'BLKOpp', 'TOVOpp']\n",
    "\n",
    "for team in AllTeams:    \n",
    "    x = pd.DataFrame(index=range(0,1), columns = defStats_columnNames)    \n",
    "    x[\"Team\"] = team\n",
    "    print(x)\n",
    "    DefensiveStats = DefensiveStats.append(x, ignore_index = True) \n",
    "\n",
    "print(DefensiveStats)"
   ]
  },
  {
   "cell_type": "code",
   "execution_count": null,
   "metadata": {},
   "outputs": [],
   "source": []
  }
 ]
}