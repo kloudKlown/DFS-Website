{
 "nbformat": 4,
 "nbformat_minor": 2,
 "metadata": {
  "language_info": {
   "name": "python",
   "codemirror_mode": {
    "name": "ipython",
    "version": 3
   },
   "version": "3.8.1-final"
  },
  "orig_nbformat": 2,
  "file_extension": ".py",
  "mimetype": "text/x-python",
  "name": "python",
  "npconvert_exporter": "python",
  "pygments_lexer": "ipython3",
  "version": 3,
  "kernelspec": {
   "name": "python38132bit662f565e6d2f4ef58d94b479cd203244",
   "display_name": "Python 3.8.1 32-bit"
  }
 },
 "cells": [
  {
   "cell_type": "code",
   "execution_count": 1,
   "metadata": {},
   "outputs": [],
   "source": [
    "from NBABase import AllStats, TodaysGames, VegasLines, TodaysPlayers"
   ]
  },
  {
   "cell_type": "code",
   "execution_count": 2,
   "metadata": {},
   "outputs": [],
   "source": [
    "import pandas as pd\n",
    "import numpy as np\n",
    "from datetime import timedelta, date"
   ]
  },
  {
   "cell_type": "code",
   "execution_count": 3,
   "metadata": {},
   "outputs": [],
   "source": [
    "columnNames = ['PlayerName', 'Position', 'Date', 'Team', 'HomeAway', 'Opp', 'Margin', 'MP', 'FG', 'FGA', 'FGper', 'ThreeP',\n",
    "                    'ThreePA', 'ThreePper', 'FT', 'FTA', 'FTper', 'ORB', 'DRB', 'TRB', 'AST', 'STL', 'BLK', 'TOV', 'PF', 'PTS', \n",
    "                    'GmSc', 'TSPer', 'eFGPer', 'ORBPer', 'DRBPer', 'TRBPer', 'ASTPer', 'STLPer', 'BLKPer', 'TOVPer', 'USGPer', \n",
    "                    'ORTGPer', 'DRTGPer']                    \n",
    "AllStats.columns = columnNames   \n",
    "AllStats = AllStats.sort_values(by=['Date'])\n"
   ]
  },
  {
   "cell_type": "code",
   "execution_count": 10,
   "metadata": {},
   "outputs": [],
   "source": [
    "data = {\"Team\":[],\"Position\":[],\"Date\":[],\"FG\":[],\"FGA\":[],\"ThreeP\":[],\"ThreePA\":[],\"FT\":[],\"FTA\":[],\"ORB\":[],\"DRB\":[],\"TRB\":[],\"AST\":[],\"STL\":[],\"BLK\":[],\"TOV\":[],\"PF\":[], \"PTS\":[],\"TSPer\":[],\"eFGPer\":[],\"ORBPer\":[],\"DRBPer\":[],\"TRBPer\":[],\"ASTPer\":[],\"STLPer\":[],\"BLKPer\":[],\"TOVPer\":[],\"USGPer\":[],\"ORTGPer\":[],\"DRTGPer\":[],\"FGAOpp\":[], \"ThreePAOpp\":[], \"FTAOpp\":[], \"TRBOpp\":[],\"ASTOpp\":[],\"STLOpp\":[],\"BLKOpp\":[],\"TOVOpp\":[]}\n",
    "\n",
    "DefensiveStats = pd.DataFrame(data)"
   ]
  },
  {
   "cell_type": "code",
   "execution_count": 11,
   "metadata": {},
   "outputs": [
    {
     "name": "stdout",
     "output_type": "stream",
     "text": "NOP\nDEN\nSAC\nTOR\nATL\nLAC\nCLE\nCHO\nLAL\nCHI\nDET\nPOR\nSAS\nBOS\nUTA\nORL\nPHO\nMIN\nBRK\nHOU\nDAL\nMIL\nWAS\nIND\nMIA\nNYK\nGSW\nMEM\nOKC\nPHI\n"
    }
   ],
   "source": [
    "PositionsAll = [\"C\", \"PG\", \"SG\", \"SF\", \"PF\"]\n",
    "AllTeams = list(set(AllStats.loc[:,\"Team\"]))\n",
    "defStats_columnNames = ['Team', 'Position', 'Date', 'FG', 'FGA', 'ThreeP', 'ThreePA', 'FT', 'FTA', 'ORB', 'DRB', 'TRB', 'AST', 'STL', 'BLK', 'TOV', 'PF', 'PTS', 'TSPer', 'eFGPer', 'ORBPer', 'DRBPer', 'TRBPer', 'ASTPer', 'STLPer', 'BLKPer', 'TOVPer', 'USGPer', 'ORTGPer', 'DRTGPer', 'FGAOpp', 'ThreePAOpp', 'FTAOpp', 'TRBOpp', 'ASTOpp', 'STLOpp', 'BLKOpp', 'TOVOpp']\n",
    "\n",
    "for team in AllTeams:    \n",
    "    # date = DefensiveStats[DefensiveStats[\"Team\"] == team][[\"Date\"]].max()[\"Date\"].strftime(\"%Y-%m-%d\")\n",
    "    # dateList = sorted(set(AllStats[ (AllStats[\"Team\"] == team) & (AllStats[\"Date\"] > date) ][\"Date\"]))\n",
    "    dateList = sorted(set(AllStats[(AllStats[\"Team\"] == team)][\"Date\"]))\n",
    "    \n",
    "    print(team)\n",
    "    for date in dateList:        \n",
    "        for pos in PositionsAll:            \n",
    "            temp = pd.DataFrame(index=range(0,1), columns = defStats_columnNames)\n",
    "            dataSubset = AllStats[(AllStats[\"Team\"] == team) &\n",
    "                                  (AllStats[\"Position\"] == pos) & \n",
    "                                  (AllStats[\"Date\"] < date) & \n",
    "                                  (AllStats[\"Date\"] > (date + pd.Timedelta(days=-300)) )]\n",
    "            dataSubset = dataSubset.sort_values(by = \"Date\", ascending = True)\n",
    "            currentGame = AllStats[(AllStats[\"Team\"] == team) & (AllStats[\"Date\"] == date)]\n",
    "\n",
    "            if (len(currentGame[\"Date\"]) == 0) or (len(dataSubset[\"Date\"]) == 0):\n",
    "                break\n",
    "            \n",
    "            if (len(dataSubset) > 50):\n",
    "                dataSubset = dataSubset[0:50]\n",
    "            \n",
    "            temp[\"Date\"] = date\n",
    "            temp[\"Team\"] = team\n",
    "            temp[\"Position\"] = pos\n",
    "            #### How does team perform in this position historically\n",
    "            for i in defStats_columnNames[3:30]:\n",
    "                temp[i] = np.mean(AllStats[i])\n",
    "            \n",
    "            ### Get Opposition Players in the game\n",
    "            OppPlayers = list(AllStats[(AllStats[\"Team\"].isin(list(currentGame[\"Opp\"][0:1])) == True) &\n",
    "                                  (AllStats[\"Position\"] == pos) & \n",
    "                                  (AllStats[\"Date\"] == date)][\"PlayerName\"])\n",
    "\n",
    "            ### Get Opposition Players and their dates to find all games these players particiated in      \n",
    "            OppDates = sorted(list(AllStats[AllStats[\"PlayerName\"].isin(OppPlayers) == True][\"Date\"]), reverse = True)\n",
    "            OppDates = OppDates[0:5]\n",
    "          \n",
    "            ## Make sure do not include this date but eveytyhing before\n",
    "            subsetOppData =  AllStats[(AllStats[\"Team\"].isin(list(currentGame[\"Opp\"][0:1])) == True) &\n",
    "                                  (AllStats[\"PlayerName\"].isin(OppPlayers) == True) &\n",
    "                                  (AllStats[\"Date\"].isin(OppDates) == True)]\n",
    "\n",
    "            subsetOppData = subsetOppData.sort_values(by = \"Date\", ascending = True)\n",
    "            if (len(subsetOppData) > 50):\n",
    "                subsetOppData = subsetOppData[0:50]\n",
    "            \n",
    "            #### How does team perform in this position historically\n",
    "            for y in defStats_columnNames[30:38]:         \n",
    "                temp[y] = np.mean(subsetOppData[y.replace(\"Opp\", \"\")])\n",
    "\n",
    "            DefensiveStats = DefensiveStats.append(temp, ignore_index = True)"
   ]
  },
  {
   "cell_type": "code",
   "execution_count": 13,
   "metadata": {},
   "outputs": [],
   "source": [
    "DefensiveStats.to_csv(\"DefensiveStats.csv\" , index=False)\n",
    "\n",
    "\n",
    "function CalcuateDefensiveStats(defStats):\n",
    "    for team in AllTeams:    \n",
    "        date = DefensiveStats[DefensiveStats[\"Team\"] == team][[\"Date\"]].max()[\"Date\"].strftime(\"%Y-%m-%d\")\n",
    "        dateList = sorted(set(AllStats[(AllStats[\"Team\"] == team)][\"Date\"]))\n",
    "        dateList = sorted(set(AllStats[ (AllStats[\"Team\"] == team) & (AllStats[\"Date\"] > date) ][\"Date\"]))\n",
    "        \n",
    "    \n",
    "        print(team)\n",
    "        for date in dateList:        \n",
    "            for pos in PositionsAll:            \n",
    "                temp = pd.DataFrame(index=range(0,1), columns = defStats_columnNames)\n",
    "                dataSubset = AllStats[(AllStats[\"Team\"] == team) &\n",
    "                                    (AllStats[\"Position\"] == pos) & \n",
    "                                    (AllStats[\"Date\"] < date) & \n",
    "                                    (AllStats[\"Date\"] > (date + pd.Timedelta(days=-300)) )]\n",
    "                dataSubset = dataSubset.sort_values(by = \"Date\", ascending = True)\n",
    "                currentGame = AllStats[(AllStats[\"Team\"] == team) & (AllStats[\"Date\"] == date)]\n",
    "\n",
    "                if (len(currentGame[\"Date\"]) == 0) or (len(dataSubset[\"Date\"]) == 0):\n",
    "                    break\n",
    "                \n",
    "                if (len(dataSubset) > 50):\n",
    "                    dataSubset = dataSubset[0:50]\n",
    "                \n",
    "                temp[\"Date\"] = date\n",
    "                temp[\"Team\"] = team\n",
    "                temp[\"Position\"] = pos\n",
    "                #### How does team perform in this position historically\n",
    "                for i in defStats_columnNames[3:30]:\n",
    "                    temp[i] = np.mean(AllStats[i])\n",
    "                \n",
    "                ### Get Opposition Players in the game\n",
    "                OppPlayers = list(AllStats[(AllStats[\"Team\"].isin(list(currentGame[\"Opp\"][0:1])) == True) &\n",
    "                                    (AllStats[\"Position\"] == pos) & \n",
    "                                    (AllStats[\"Date\"] == date)][\"PlayerName\"])\n",
    "\n",
    "                ### Get Opposition Players and their dates to find all games these players particiated in      \n",
    "                OppDates = sorted(list(AllStats[AllStats[\"PlayerName\"].isin(OppPlayers) == True][\"Date\"]), reverse = True)\n",
    "                OppDates = OppDates[0:5]\n",
    "            \n",
    "                ## Make sure do not include this date but eveytyhing before\n",
    "                subsetOppData =  AllStats[(AllStats[\"Team\"].isin(list(currentGame[\"Opp\"][0:1])) == True) &\n",
    "                                    (AllStats[\"PlayerName\"].isin(OppPlayers) == True) &\n",
    "                                    (AllStats[\"Date\"].isin(OppDates) == True)]\n",
    "\n",
    "                subsetOppData = subsetOppData.sort_values(by = \"Date\", ascending = True)\n",
    "                if (len(subsetOppData) > 50):\n",
    "                    subsetOppData = subsetOppData[0:50]\n",
    "                \n",
    "                #### How does team perform in this position historically\n",
    "                for y in defStats_columnNames[30:38]:         \n",
    "                    temp[y] = np.mean(subsetOppData[y.replace(\"Opp\", \"\")])\n",
    "\n",
    "                defStats = defStats.append(temp, ignore_index = True)      "
   ]
  },
  {
   "cell_type": "code",
   "execution_count": 23,
   "metadata": {},
   "outputs": [],
   "source": [
    "team\n",
    "\n",
    "date = DefensiveStats[DefensiveStats[\"Team\"] == team][[\"Date\"]].max()[\"Date\"].strftime(\"%Y-%m-%d\")\n",
    "date\n",
    "dateList = sorted(set(AllStats[(AllStats[\"Team\"] == team)][\"Date\"]))\n",
    "dateList = sorted(set(AllStats[ (AllStats[\"Team\"] == team) & (AllStats[\"Date\"] > date) ][\"Date\"]))\n"
   ]
  }
 ]
}