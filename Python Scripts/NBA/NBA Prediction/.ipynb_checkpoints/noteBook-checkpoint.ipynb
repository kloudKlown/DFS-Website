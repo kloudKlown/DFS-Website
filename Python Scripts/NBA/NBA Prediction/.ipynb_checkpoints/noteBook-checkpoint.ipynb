{
 "cells": [
  {
   "cell_type": "code",
   "execution_count": null,
   "metadata": {},
   "outputs": [
    {
     "ename": "Error",
     "evalue": "Failed to connect to Jupyter notebook. \r\nhttp://localhost:8889/\r\nError: Invalid response: 500 Internal Server Error",
     "output_type": "error",
     "traceback": [
      "Error: Failed to connect to Jupyter notebook.",
      "http://localhost:8889/",
      "Error: Invalid response: 500 Internal Server Error",
      "at c:\\Users\\suhas\\.vscode\\extensions\\ms-python.python-2020.2.64397\\out\\client\\extension.js:1:817436"
     ]
    }
   ],
   "source": [
    "from NBABase import AllStats, TodaysGames, VegasLines, TodaysPlayers"
   ]
  },
  {
   "cell_type": "code",
   "execution_count": null,
   "metadata": {},
   "outputs": [],
   "source": []
  }
 ],
 "metadata": {
  "file_extension": ".py",
  "language_info": {
   "codemirror_mode": {
    "name": "ipython",
    "version": 3
   },
   "name": "python"
  },
  "mimetype": "text/x-python",
  "name": "python",
  "npconvert_exporter": "python",
  "pygments_lexer": "ipython3",
  "version": 3
 },
 "nbformat": 4,
 "nbformat_minor": 2
}
